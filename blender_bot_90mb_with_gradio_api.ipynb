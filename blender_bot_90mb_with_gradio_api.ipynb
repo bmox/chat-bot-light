{
  "cells": [
    {
      "cell_type": "code",
      "execution_count": null,
      "metadata": {
        "colab": {
          "base_uri": "https://localhost:8080/",
          "height": 17
        },
        "id": "qRYHmhCTFglj",
        "outputId": "12aecc93-c819-45e4-9a90-3cf621eb4f6a"
      },
      "outputs": [
        {
          "output_type": "display_data",
          "data": {
            "text/plain": [
              "<IPython.core.display.Javascript object>"
            ],
            "application/javascript": [
              "\n",
              "function ClickConnect(){\n",
              "  btn = document.querySelector(\"colab-connect-button\")\n",
              "  if (btn != null){\n",
              "    console.log(\"Click colab-connect-button\"); \n",
              "    btn.click() \n",
              "    }\n",
              "    \n",
              "  btn = document.getElementById('ok')\n",
              "  if (btn != null){\n",
              "    console.log(\"Click reconnect\"); \n",
              "    btn.click() \n",
              "    }\n",
              "  }\n",
              "    \n",
              "setInterval(ClickConnect,60000)\n"
            ]
          },
          "metadata": {}
        }
      ],
      "source": [
        "# @title ##**It stop reconneting when uploading** { display-mode: \"form\" }\n",
        "\n",
        "import IPython\n",
        "from google.colab import output\n",
        "\n",
        "display(IPython.display.Javascript('''\n",
        "function ClickConnect(){\n",
        "  btn = document.querySelector(\"colab-connect-button\")\n",
        "  if (btn != null){\n",
        "    console.log(\"Click colab-connect-button\"); \n",
        "    btn.click() \n",
        "    }\n",
        "    \n",
        "  btn = document.getElementById('ok')\n",
        "  if (btn != null){\n",
        "    console.log(\"Click reconnect\"); \n",
        "    btn.click() \n",
        "    }\n",
        "  }\n",
        "    \n",
        "setInterval(ClickConnect,60000)\n",
        "'''))"
      ]
    },
    {
      "cell_type": "code",
      "execution_count": null,
      "metadata": {
        "id": "M2yTkbHVHIeA"
      },
      "outputs": [],
      "source": [
        "# @title ##**Install Modules** { display-mode: \"form\" }\n",
        "from IPython.display import clear_output\n",
        "!pip install transformers\n",
        "!pip install cryptography\n",
        "!pip install gradio\n",
        "from transformers import AutoTokenizer, AutoModelForSeq2SeqLM\n",
        "tokenizer = AutoTokenizer.from_pretrained(\"facebook/blenderbot-90M\")\n",
        "model = AutoModelForSeq2SeqLM.from_pretrained(\"facebook/blenderbot-90M\")\n",
        "\n",
        "clear_output()\n",
        "# import os\n",
        "# os.kill(os.getpid(), 9)"
      ]
    },
    {
      "cell_type": "code",
      "execution_count": null,
      "metadata": {
        "id": "OHHzet3gHG5I"
      },
      "outputs": [],
      "source": [
        "# @title ##**Functions** { display-mode: \"form\" }\n",
        "def blenderbot(HUMAN):\n",
        "  inputs = tokenizer([HUMAN], return_tensors=\"pt\")\n",
        "  next_reply_ids = model.generate(**inputs)\n",
        "  ans=tokenizer.batch_decode(next_reply_ids, skip_special_tokens=True)[0]\n",
        "  return ans\n",
        "\n"
      ]
    },
    {
      "cell_type": "code",
      "source": [
        "# @title ##**Run server** { display-mode: \"form\" }\n",
        "\n",
        "import gradio as gr\n",
        "\n",
        "iface = gr.Interface(fn=blenderbot, inputs=\"text\", outputs=\"text\")\n",
        "iface.launch()\n"
      ],
      "metadata": {
        "id": "P5DmHQPmEB6O",
        "colab": {
          "base_uri": "https://localhost:8080/",
          "height": 643
        },
        "outputId": "0f8187e7-c433-4f94-f2de-083e0ae63d92"
      },
      "execution_count": null,
      "outputs": [
        {
          "output_type": "stream",
          "name": "stdout",
          "text": [
            "Colab notebook detected. To show errors in colab notebook, set `debug=True` in `launch()`\n",
            "Running on public URL: https://15609.gradio.app\n",
            "\n",
            "This share link expires in 72 hours. For free permanent hosting, check out Spaces (https://huggingface.co/spaces)\n"
          ]
        },
        {
          "output_type": "display_data",
          "data": {
            "text/plain": [
              "<IPython.core.display.HTML object>"
            ],
            "text/html": [
              "<div><iframe src=\"https://15609.gradio.app\" width=\"900\" height=\"500\" allow=\"autoplay; camera; microphone;\" frameborder=\"0\" allowfullscreen></iframe></div>"
            ]
          },
          "metadata": {}
        },
        {
          "output_type": "execute_result",
          "data": {
            "text/plain": [
              "(<gradio.routes.App at 0x7f894d71ac10>,\n",
              " 'http://127.0.0.1:7865/',\n",
              " 'https://15609.gradio.app')"
            ]
          },
          "metadata": {},
          "execution_count": 13
        }
      ]
    }
  ],
  "metadata": {
    "colab": {
      "name": "blender bot 90mb  with gradio api",
      "provenance": [],
      "collapsed_sections": []
    },
    "kernelspec": {
      "display_name": "Python 3",
      "name": "python3"
    },
    "language_info": {
      "name": "python"
    },
    "accelerator": "GPU"
  },
  "nbformat": 4,
  "nbformat_minor": 0
}